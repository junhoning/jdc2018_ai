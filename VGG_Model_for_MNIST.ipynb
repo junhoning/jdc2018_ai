{
  "nbformat": 4,
  "nbformat_minor": 0,
  "metadata": {
    "colab": {
      "name": "VGG Model for MNIST.ipynb",
      "version": "0.3.2",
      "provenance": [],
      "collapsed_sections": []
    },
    "kernelspec": {
      "name": "python3",
      "display_name": "Python 3"
    },
    "accelerator": "GPU"
  },
  "cells": [
    {
      "metadata": {
        "id": "ttiVEBLwHWIQ",
        "colab_type": "code",
        "colab": {}
      },
      "cell_type": "code",
      "source": [
        "from datetime import datetime\n",
        "import os\n",
        "import shutil\n",
        "import numpy as np\n",
        "import matplotlib.pyplot as plt\n",
        "\n",
        "from tensorflow.keras.datasets import mnist as dataset\n",
        "import tensorflow as tf\n",
        "\n",
        "% matplotlib inline"
      ],
      "execution_count": 0,
      "outputs": []
    },
    {
      "metadata": {
        "id": "u5imkNcIIE_O",
        "colab_type": "text"
      },
      "cell_type": "markdown",
      "source": [
        "# VGG Model\n",
        "\n",
        "학습 할 모델을 설계 해줍니다. 아래는 [VGG](https://arxiv.org/abs/1409.1556) [1] 모델을 예시로 하였습니다. \n",
        "\n",
        "**reference**  \n",
        "[1] Karen Simonyan, Andrew Zisserman. \"[Very Deep Convolutional Networks for Large-Scale Image Recognition](https://arxiv.org/abs/1409.1556)\". *arxiv:1409.1556*, 2014."
      ]
    },
    {
      "metadata": {
        "id": "1AbzShVsHWIW",
        "colab_type": "code",
        "colab": {}
      },
      "cell_type": "code",
      "source": [
        "class Model:\n",
        "    def __init__(self, num_class, is_training):\n",
        "        self.num_class = num_class\n",
        "        self.is_training = is_training\n",
        "        self.drop_rate = 0.7 if is_training else 1.0\n",
        "\n",
        "    def conv_block(self, inputs, filters=64, kernel_size=(3, 3), strides=(1, 1), name='conv'):\n",
        "        conv = tf.keras.layers.Conv2D(filters=filters,\n",
        "                                      kernel_size=kernel_size,\n",
        "                                      strides=strides,\n",
        "                                      padding='SAME',\n",
        "                                      name=name)(inputs)\n",
        "        norm = tf.keras.layers.BatchNormalization()(conv)\n",
        "        acts = tf.keras.layers.ReLU()(norm)\n",
        "        return acts\n",
        "\n",
        "    def max_pooling(self, inputs, name='pool'):\n",
        "        return tf.keras.layers.MaxPool2D(name=name)(inputs)\n",
        "\n",
        "    def inference(self, input_shape):\n",
        "        with tf.variable_scope(\"conv_layer\"):\n",
        "            inputs = tf.keras.layers.Input(input_shape)\n",
        "            net = self.conv_block(inputs, filters=64, name='conv_1_1')\n",
        "            net = self.conv_block(net, filters=64, name='conv_1_2')\n",
        "            net = self.max_pooling(net, name='pool_1')\n",
        "\n",
        "            net = self.conv_block(net, filters=128, name='conv_2_1')\n",
        "            net = self.conv_block(net, filters=128, name='conv_2_2')\n",
        "            net = self.max_pooling(net, name='pool_2')\n",
        "\n",
        "            net = self.conv_block(net, filters=256, name='conv_3_1')\n",
        "            net = self.conv_block(net, filters=256, name='conv_3_2')\n",
        "            net = self.conv_block(net, filters=256, name='conv_3_3')\n",
        "            net = self.max_pooling(net, name='pool_3')\n",
        "\n",
        "            net = self.conv_block(net, filters=512, name='conv_4_1')\n",
        "            net = self.conv_block(net, filters=512, name='conv_4_2')\n",
        "            net = self.conv_block(net, filters=512, name='conv_4_3')\n",
        "            net = self.max_pooling(net, name='pool_4')\n",
        "            \n",
        "#             net = self.conv_block(net, filters=512, name='conv_5_1')\n",
        "#             net = self.conv_block(net, filters=512, name='conv_5_2')\n",
        "#             net = self.conv_block(net, filters=512, name='conv_5_3')\n",
        "#             net = self.max_pooling(net, name='pool_5')\n",
        "            \n",
        "        with tf.variable_scope(\"FC_layer\"):\n",
        "            net = tf.keras.layers.Flatten()(net)\n",
        "            net = tf.keras.layers.Dense(4096, activation='relu')(net)\n",
        "            net = tf.keras.layers.Dropout(self.drop_rate)(net)\n",
        "            net = tf.keras.layers.Dense(4096, activation='relu')(net)\n",
        "            net = tf.keras.layers.Dropout(self.drop_rate)(net)\n",
        "            net = tf.keras.layers.Dense(self.num_class)(net)\n",
        "        return tf.keras.Model(inputs=inputs, outputs=net)"
      ],
      "execution_count": 0,
      "outputs": []
    },
    {
      "metadata": {
        "id": "x71mDzu9ILYF",
        "colab_type": "text"
      },
      "cell_type": "markdown",
      "source": [
        "# Util"
      ]
    },
    {
      "metadata": {
        "id": "phVlgTU9HWIc",
        "colab_type": "code",
        "colab": {}
      },
      "cell_type": "code",
      "source": [
        "def onehot_encoding(labels, num_class=10):\n",
        "    onehot = np.zeros((num_class))\n",
        "    onehot[labels] = 1\n",
        "    return onehot\n",
        "\n",
        "def load_data(batch_data):\n",
        "    batch_images = []\n",
        "    batch_labels = []\n",
        "    for x, y in batch_data:\n",
        "        \n",
        "        images = np.expand_dims(x, -1)\n",
        "        labels = onehot_encoding(y, num_class)\n",
        "        \n",
        "        batch_images.append(images)\n",
        "        batch_labels.append(labels)\n",
        "    \n",
        "    return np.asarray(batch_images).astype(np.float32), np.asarray(batch_labels).astype(np.float32)"
      ],
      "execution_count": 0,
      "outputs": []
    },
    {
      "metadata": {
        "id": "YO9aYLMbIPWl",
        "colab_type": "text"
      },
      "cell_type": "markdown",
      "source": [
        "# Set HyperParameter"
      ]
    },
    {
      "metadata": {
        "id": "_JBDRb36HWIf",
        "colab_type": "code",
        "colab": {}
      },
      "cell_type": "code",
      "source": [
        "#@title Set Hyperparameter { display-mode: \"form\", run: \"auto\" }\n",
        "\n",
        "num_class = 10\n",
        "is_training = True\n",
        "\n",
        "learning_rate = 0.001  #@param [0.01, 0.001, 0.0001]\n",
        "batch_size = 64  #@param [32, 64, 128]\n",
        "num_epochs = 5  #@param {type:\"slider\", min:1, max:100, step:1}\n",
        "\n"
      ],
      "execution_count": 0,
      "outputs": []
    },
    {
      "metadata": {
        "id": "n5ubIW2HITCA",
        "colab_type": "text"
      },
      "cell_type": "markdown",
      "source": [
        "# Set Optimization"
      ]
    },
    {
      "metadata": {
        "id": "K1iah0H5HWIi",
        "colab_type": "code",
        "colab": {}
      },
      "cell_type": "code",
      "source": [
        "# Load DataSet\n",
        "(train_images, train_labels), (test_images, test_labels) = dataset.load_data()\n",
        "train_data = [(x, y) for x, y in zip(train_images, train_labels)]\n",
        "test_data = [(x, y) for x, y in zip(test_images, test_labels)]"
      ],
      "execution_count": 0,
      "outputs": []
    },
    {
      "metadata": {
        "scrolled": false,
        "id": "38uF25yJHWIm",
        "colab_type": "code",
        "colab": {}
      },
      "cell_type": "code",
      "source": [
        "# Build Optimization for Model VGG\n",
        "image = tf.placeholder(tf.float32, shape=(None, 28, 28, 1), name='image')\n",
        "label = tf.placeholder(tf.float32, shape=(None, 10), name='label')\n",
        "\n",
        "vgg = Model(num_class, is_training)\n",
        "\n",
        "pred = vgg.inference(image.shape[1:])(image)\n",
        "cost = tf.losses.softmax_cross_entropy(onehot_labels=label, logits=pred)\n",
        "optm = tf.train.AdamOptimizer(learning_rate).minimize(cost)\n",
        "\n",
        "accr, accr_op = tf.metrics.accuracy(labels=tf.argmax(label, axis=-1), predictions=tf.argmax(pred, axis=-1))\n",
        "\n",
        "saver = tf.train.Saver()\n",
        "save_path = \"tmp/model.ckpt\"\n",
        "save_dir = os.path.dirname(save_path)\n",
        "if not os.path.exists(save_dir):\n",
        "    os.makedirs(save_dir)\n",
        "\n",
        "init_op = [tf.global_variables_initializer(), tf.local_variables_initializer()]"
      ],
      "execution_count": 0,
      "outputs": []
    },
    {
      "metadata": {
        "id": "fHJN2xDAIX6F",
        "colab_type": "text"
      },
      "cell_type": "markdown",
      "source": [
        "# Start Training"
      ]
    },
    {
      "metadata": {
        "scrolled": false,
        "id": "0b_iS3eBHWIw",
        "colab_type": "code",
        "colab": {}
      },
      "cell_type": "code",
      "source": [
        "# Start Training from below codes\n",
        "with tf.Session() as sess:\n",
        "    sess.run(init_op)\n",
        "    \n",
        "    global_step = 0\n",
        "    num_batches = len(train_data) // batch_size\n",
        "    \n",
        "    for epoch_n in range(num_epochs):\n",
        "        cost_total = 0\n",
        "        accr_total = 0\n",
        "        \n",
        "        for step in range(num_batches):\n",
        "            batch_data = train_data[batch_size * step: batch_size * (step + 1)]\n",
        "            batch_images, batch_labels = load_data(batch_data)\n",
        "            \n",
        "            feed_dict = {image: batch_images, label: batch_labels}\n",
        "            \n",
        "            _, cost_val, accr_val = sess.run([optm, cost, accr_op], feed_dict=feed_dict)\n",
        "            cost_total += cost_val\n",
        "            accr_total += accr_val\n",
        "            \n",
        "            global_step += 1\n",
        "        \n",
        "        saver.save(sess, save_path, global_step=global_step)\n",
        "        print('[%d/%d] Cost: %.4f, Accuracy: %.4f' % (epoch_n, num_epochs, cost_total/(step+1), accr_total/(step+1)))"
      ],
      "execution_count": 0,
      "outputs": []
    },
    {
      "metadata": {
        "id": "zPyk8NBHHWIz",
        "colab_type": "code",
        "colab": {
          "base_uri": "https://localhost:8080/",
          "height": 2701
        },
        "outputId": "2e5f9624-995c-4849-b9c8-40032e228e96"
      },
      "cell_type": "code",
      "source": [
        "# Evaluate Model\n",
        "with tf.Session() as sess:\n",
        "    ckpt_status = tf.train.get_checkpoint_state(save_path)  # 마지막으로 저장한 Checkpoint 확인하기 \n",
        "    latest_ckpt = ckpt_status.model_checkpoint_path  # 마지막 Checkpoint 불러오기\n",
        "    saver.restore(sess, latest_ckpt)  # 마지막 Checkpoint Restore 하기\n",
        "    print(\"Saved Checkpoint are Loaded Successfully!\")\n",
        "    \n",
        "    batch_data = test_data[:10]  # 데이터 앞에 10개만 불러오기\n",
        "    batch_images, batch_labels = load_data(batch_data)  # 모델에 들어갈 수 있도록 정제\n",
        "\n",
        "    feed_dict = {image: batch_images, label: batch_labels}\n",
        "    logits = sess.run(pred, feed_dict=feed_dict)\n",
        "    result = np.argmax(logits, -1)\n",
        "    \n",
        "    test_accuracy = np.mean(result == np.argmax(batch_labels, -1))\n",
        "    print(\"Accuracy for Test is %.4f\" % test_accuracy)\n",
        "    \n",
        "    for i in range(batch_images.shape[0]):\n",
        "        plt.title(\"The Result is %d\" % result[i])\n",
        "        plt.imshow(np.squeeze(batch_images[i]))\n",
        "        plt.show()"
      ],
      "execution_count": 43,
      "outputs": [
        {
          "output_type": "stream",
          "text": [
            "INFO:tensorflow:Restoring parameters from tmp/model.ckpt-2811\n",
            "Saved Checkpoint are Loaded Successfully!\n",
            "Accuracy for Test is 1.0000\n"
          ],
          "name": "stdout"
        },
        {
          "output_type": "display_data",
          "data": {
            "image/png": "[encoded data removed]",
            "text/plain": [
              "<matplotlib.figure.Figure at 0x7f3c7f3534a8>"
            ]
          },
          "metadata": {
            "tags": []
          }
        },
        {
          "output_type": "display_data",
          "data": {
            "image/png": "[encoded data removed]",
            "text/plain": [
              "<matplotlib.figure.Figure at 0x7f3c7f335e48>"
            ]
          },
          "metadata": {
            "tags": []
          }
        },
        {
          "output_type": "display_data",
          "data": {
            "image/png": "[encoded data removed]",
            "text/plain": [
              "<matplotlib.figure.Figure at 0x7f3c7f1ddd30>"
            ]
          },
          "metadata": {
            "tags": []
          }
        },
        {
          "output_type": "display_data",
          "data": {
            "image/png": "[encoded data removed]",
            "text/plain": [
              "<matplotlib.figure.Figure at 0x7f3c7f1baf98>"
            ]
          },
          "metadata": {
            "tags": []
          }
        },
        {
          "output_type": "display_data",
          "data": {
            "image/png": "[encoded data removed]",
            "text/plain": [
              "<matplotlib.figure.Figure at 0x7f3c7f110da0>"
            ]
          },
          "metadata": {
            "tags": []
          }
        },
        {
          "output_type": "display_data",
          "data": {
            "image/png": "[encoded data removed]",
            "text/plain": [
              "<matplotlib.figure.Figure at 0x7f3c7f0d07b8>"
            ]
          },
          "metadata": {
            "tags": []
          }
        },
        {
          "output_type": "display_data",
          "data": {
            "image/png": "[encoded data removed]",
            "text/plain": [
              "<matplotlib.figure.Figure at 0x7f3c7f10a278>"
            ]
          },
          "metadata": {
            "tags": []
          }
        },
        {
          "output_type": "display_data",
          "data": {
            "image/png": "[encoded data removed]",
            "text/plain": [
              "<matplotlib.figure.Figure at 0x7f3c7f025c18>"
            ]
          },
          "metadata": {
            "tags": []
          }
        },
        {
          "output_type": "display_data",
          "data": {
            "image/png": "[encoded data removed]",
            "text/plain": [
              "<matplotlib.figure.Figure at 0x7f3c7ef8bda0>"
            ]
          },
          "metadata": {
            "tags": []
          }
        },
        {
          "output_type": "display_data",
          "data": {
            "image/png": "[encoded data removed]",
            "text/plain": [
              "<matplotlib.figure.Figure at 0x7f3c7ef5a6d8>"
            ]
          },
          "metadata": {
            "tags": []
          }
        }
      ]
    },
    {
      "metadata": {
        "id": "PAUtysLyV0aE",
        "colab_type": "code",
        "colab": {}
      },
      "cell_type": "code",
      "source": [
        ""
      ],
      "execution_count": 0,
      "outputs": []
    }
  ]
}